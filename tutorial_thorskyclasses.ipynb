{
 "cells": [
  {
   "cell_type": "markdown",
   "metadata": {},
   "source": [
    "# thorskyclasses -- a convenient overlay for astropy.coordinates\n",
    "\n",
    "## John Thorstensen\n",
    "\n",
    "**thorskyclasses3** is a set of convenience functions that sit atop ```astropy.coordinates, astropy.time```, and ```astropy.units```.  In addition, it calls functions from ```thorskyutils```, which include functionality not included in astropy, and also some routines for relatively lightweight, accurate-enough computations of such things as the local sidereal time and the positions of the moon and sun. \n",
    "\n",
    "The module also imports from the python ```dateutils``` and the time zone library ```pytz```.  \n",
    "\n",
    "The main aim is to provide the infrastructure necessary for a new, all-python version of skycalc, which will have\n",
    "a GUI interface similar to JSkyCalc.  However, the same infrastructure is very useful for such tasks as figuring out which of your data were taken with the moon up, or in twilight, or whether the barycentric corrections are right, and many other applications.  \n",
    "\n",
    "Two data files are needed, ```cartesian_bright.dat``` and ```observatories_rev.dat```.  These list respectively the brightest stars and data on the canned observing sites; in both cases the coordinates used are cartesian.\n",
    "\n",
    "###  The Observation class\n",
    "\n",
    "The main concept in ```thorskyclasses3``` is the ```Observation``` subclass.  As its name implies, this is meant to model a single observation, taken from a site on earth, looking toward specified celestial coordinates, and taken at a specified time.  Accordingly an ```Observation``` has these three main attributes:\n",
    "1. ```site```, which is a site on earth comprising of an astropy EarthLocation, a name, and some other data such as time zone;\n",
    "2. ```celest``` which is an astropy SkyCoord object; and \n",
    "3.  ```t```, which is an astropy Time object.\n",
    "\n",
    "When an ```Observation``` is initialized, these inputs are specified as keyword arguments, any of which can be omitted.  Instantiating an ```Observation``` with no arguments \n",
    "1. sets the ```site``` to a default observatory (MDM in my case), \n",
    "2. sets the time ```t``` to the present computer clock time, and  \n",
    "3. sets the sky position ```celest``` to correspond to the zenith at that site and time.\n",
    "\n",
    "Here is an example.  Note that native ```astropy``` functions are used for formatted output. \n",
    "```thorskyclasses3``` provides little in the way of output formatting, since astropy already handles this.\n",
    "\n",
    "NOTE that the \"ErfaWarning\" will appear rather frequently, because ERFA routines called by astropy depend on up-to-date information on such things as small fluctuations in the earth orientation parameters.  These effects are too small to matter for nearly all users, so the warning can be ignored unless you require extremely precise absolute positions.\n",
    "       \n",
    "Here is an example of instantiating an ```Observation``` without arguments.  Your output will vary depending on when you run it!"
   ]
  },
  {
   "cell_type": "code",
   "execution_count": 1,
   "metadata": {},
   "outputs": [
    {
     "name": "stdout",
     "output_type": "stream",
     "text": [
      "RA:  13 39 37.14 ,  dec:  +31 57 00.0\n",
      "fk5 J2018.680\n",
      "Kitt Peak [MDM Obs] -111d36m59.9916s 31d56m59.9839s\n",
      "Wed  2018-09-05  22:06:14  UT\n"
     ]
    },
    {
     "name": "stderr",
     "output_type": "stream",
     "text": [
      "WARNING: ErfaWarning: ERFA function \"utctai\" yielded 1 of \"dubious year (Note 3)\" [astropy._erfa.core]\n"
     ]
    }
   ],
   "source": [
    "from pyskycalc import *\n",
    "# thorskyclasses imports astropy.units as u\n",
    "\n",
    "obs = Observation()  # instantiates to right now, straight up at default observatory.\n",
    "\n",
    "# Let's see what we got:\n",
    "print(\"RA: \",obs.celest.ra.to_string(unit = u.hourangle, sep = ' ',precision=2), \",  dec: \",\n",
    "      obs.celest.dec.to_string(sep = ' ', precision = 1, pad = True, alwayssign=True))\n",
    "print(obs.celest.frame.name, obs.celest.frame.equinox)\n",
    "print(obs.site.name,obs.site.location.lon.to_string(),obs.site.location.lat.to_string())\n",
    "dt = obs.t.to_datetime()\n",
    "print(dt.strftime(\"%a  %Y-%m-%d  %H:%M:%S\"), \" UT\")\n"
   ]
  },
  {
   "cell_type": "markdown",
   "metadata": {},
   "source": [
    "The ```observation``` class provides several methods for changing the input parameters.  \n",
    "\n",
    "To change sites, use the ```setsite``` method and the short observatory code you'll find in the observatory list."
   ]
  },
  {
   "cell_type": "code",
   "execution_count": 2,
   "metadata": {},
   "outputs": [
    {
     "name": "stdout",
     "output_type": "stream",
     "text": [
      "Anglo-Australian Obs 149d03m57.9322s -31d16m37.3359s\n"
     ]
    }
   ],
   "source": [
    "obs.setsite('aao')  \n",
    "print(obs.site.name,obs.site.location.lon.to_string(),obs.site.location.lat.to_string())"
   ]
  },
  {
   "cell_type": "markdown",
   "metadata": {},
   "source": [
    "The ```setcelest``` method lets you change the celestial position; there are many valid formats, for example:"
   ]
  },
  {
   "cell_type": "code",
   "execution_count": 3,
   "metadata": {},
   "outputs": [
    {
     "name": "stdout",
     "output_type": "stream",
     "text": [
      "RA:  18 22 22.23 ,  dec:  -14 15 17.9\n",
      "fk5 J1950.000\n",
      " \n",
      "RA:  14 14 02.40 ,  dec:  +15 15 00.0\n",
      "icrs\n",
      " \n",
      "RA:  1 09 18.00 ,  dec:  +28 33 52.0\n",
      "icrs\n"
     ]
    }
   ],
   "source": [
    "obs.setcelest(\"18:22:22.23  -14:15:17.9  1950.\")\n",
    "print(\"RA: \",obs.celest.ra.to_string(unit = u.hourangle, sep = ' ',precision=2), \",  dec: \",\n",
    "      obs.celest.dec.to_string(sep = ' ', precision = 1, pad = True, alwayssign=True))\n",
    "print(obs.celest.frame.name, obs.celest.frame.equinox)\n",
    "print(\" \")\n",
    "obs.setcelest((14.234, 15.25))\n",
    "print(\"RA: \",obs.celest.ra.to_string(unit = u.hourangle, sep = ' ',precision=2), \",  dec: \",\n",
    "      obs.celest.dec.to_string(sep = ' ', precision = 1, pad = True, alwayssign=True))\n",
    "print(obs.celest.frame.name)\n",
    "print(\" \")\n",
    "obs.setcelest(('17.325d','28:33:52'))\n",
    "print(\"RA: \",obs.celest.ra.to_string(unit = u.hourangle, sep = ' ',precision=2), \",  dec: \",\n",
    "      obs.celest.dec.to_string(sep = ' ', precision = 1, pad = True, alwayssign=True))\n",
    "print(obs.celest.frame.name)\n",
    "\n"
   ]
  },
  {
   "cell_type": "markdown",
   "metadata": {},
   "source": [
    "Notice that coordinates without an equinox default to the ICRS system, which is essentially identical\n",
    "to J2000 but does not formally include an equinox.\n",
    "\n",
    "To change the time of observation, use the ```settime``` method, which again accepts a range of formats. The default is to input times in local zone time, but internally it is alway stored as universal time. Months unfortunately need to be given by numbers rather than names or abbreviations.  You can input universal time by setting the keyword argument ```use_local_time``` to ```False```."
   ]
  },
  {
   "cell_type": "code",
   "execution_count": 4,
   "metadata": {},
   "outputs": [
    {
     "name": "stdout",
     "output_type": "stream",
     "text": [
      "Fri  2018-09-14  03:14:15\n",
      " \n",
      "Fri  2018-09-14  03:14:15\n",
      " \n",
      "Fri  2018-09-14  13:14:15\n"
     ]
    }
   ],
   "source": [
    "obs.settime(\"2018-09-14 13:14:15\")   # local time\n",
    "print(obs.t.to_datetime().strftime(\"%a  %Y-%m-%d  %H:%M:%S\"))  # internally, stored as UT\n",
    "print(\" \")\n",
    "obs.settime((2018,9,14,13,14,15))\n",
    "print(obs.t.to_datetime().strftime(\"%a  %Y-%m-%d  %H:%M:%S\"))\n",
    "print(\" \")\n",
    "obs.settime(\"2018-09-14 13:14:15\", use_local_time = False)  # input a UT\n",
    "print(obs.t.to_datetime().strftime(\"%a  %Y-%m-%d  %H:%M:%S\"))  # and it's stored as-is."
   ]
  },
  {
   "cell_type": "markdown",
   "metadata": {},
   "source": [
    "The conversion from ISO dates (\"2019-04-17 22:18:13\") to the internal format depends on python's ```dateutils```.\n",
    "\n",
    "## How about some results? \n",
    "\n",
    "Several methods compute results, which are stored in class attributes. The first, ```computesky```, computes the hour angle, airmass, altitude and azimuth, and parallactic angle.  Where appropriate, these are stored as astropy Angles, which are unit-aware. To illustrate I'm printing the raw representations:"
   ]
  },
  {
   "cell_type": "code",
   "execution_count": 5,
   "metadata": {},
   "outputs": [
    {
     "name": "stdout",
     "output_type": "stream",
     "text": [
      "hour angle is an Angle:  -2h25m56.2626s\n",
      "airmass is pure number: 2.802415820000603\n",
      "altitude and azimuth are angles: 0.361762rad 0.591783rad\n",
      "parallactic angle: -2.56716rad\n"
     ]
    },
    {
     "name": "stderr",
     "output_type": "stream",
     "text": [
      "WARNING: ErfaWarning: ERFA function \"utctai\" yielded 1 of \"dubious year (Note 3)\" [astropy._erfa.core]\n"
     ]
    }
   ],
   "source": [
    "obs.computesky()\n",
    "print(\"hour angle is an Angle: \",obs.hanow)\n",
    "print(\"airmass is pure number:\",obs.airmass)\n",
    "print(\"altitude and azimuth are angles:\",obs.altit, obs.az)\n",
    "print(\"parallactic angle:\",obs.parang)"
   ]
  },
  {
   "cell_type": "markdown",
   "metadata": {},
   "source": [
    "After running ```computesky```, you can compute quantities related to the sun and moon, if you need them, with ```computesunmoon```. This also causes, where appropriate, computation of moon-object angle, the moon-sun angle, the lunar contribution to the estimated nighttime sky brightness, and during twilight an estimate of the sky brightness enhancement due to twilight.  The values computed are astropy quantities (e.g., ```SkyCoord```s and ```Angle```s) when appropriate.  A verbal description of the moon phase is generated, too.  Here is just a sample of what's available:"
   ]
  },
  {
   "cell_type": "code",
   "execution_count": 6,
   "metadata": {},
   "outputs": [
    {
     "name": "stdout",
     "output_type": "stream",
     "text": [
      "sun: <SkyCoord (PrecessedGeocentric: equinox=J2018.700, obstime=J2000.000, obsgeoloc=( 0.,  0.,  0.) m, obsgeovel=( 0.,  0.,  0.) m / s): (ra, dec) in deg\n",
      "    ( 172.35698726,  3.29970231)>\n",
      "sun alt az: -1.04857rad 3.54309rad\n",
      "twilight in magnitudes: 0.0\n",
      "moon: <SkyCoord (PrecessedGeocentric: equinox=J2018.700, obstime=J2000.000, obsgeoloc=( 0.,  0.,  0.) m, obsgeovel=( 0.,  0.,  0.) m / s): (ra, dec) in deg\n",
      "    ( 231.92840859, -13.47898109)>\n",
      "moon alt az: -0.152478rad 4.33416rad\n",
      "obs.moonphasedescr: 2.4 days before first quarter\n",
      "obs.lunsky (lunar sky brightness in mag/sq arcsec): 99.0\n",
      "obs.moonillumfrac, obs.moonobjang: 0.26085961210110264 144d42m49.3765s\n"
     ]
    }
   ],
   "source": [
    "obs.computesunmoon()\n",
    "print(\"sun:\",obs.sunpos)\n",
    "print(\"sun alt az:\",obs.sunaltit,obs.sunaz)\n",
    "print(\"twilight in magnitudes:\",obs.twi)\n",
    "print(\"moon:\",obs.moonpos)\n",
    "print(\"moon alt az:\",obs.moonaltit,obs.moonaz)\n",
    "print(\"obs.moonphasedescr:\",obs.moonphasedescr)\n",
    "print(\"obs.lunsky (lunar sky brightness in mag/sq arcsec):\",obs.lunsky)\n",
    "print(\"obs.moonillumfrac, obs.moonobjang:\",obs.moonillumfrac,obs.moonobjang)"
   ]
  },
  {
   "cell_type": "markdown",
   "metadata": {},
   "source": [
    "The events of a single night -- sunset, sunrise, twilights, and so on -- are computed with the ```setnightevents``` method.  The times are astropy ```Time```s.  To be easily intelligible as local times they can be converted to python datetimes; I've also provided a function ```time_rounded_to_minute``` that rounds off these rather ragged events (refraction variations near the horizon make rise-set times imprecise).  The night for which the events are computed changes over around local noon, so if the time given by ```t``` is in the wee hours of the morning, the events are computd for the correct night.  "
   ]
  },
  {
   "cell_type": "code",
   "execution_count": 7,
   "metadata": {},
   "outputs": [
    {
     "name": "stdout",
     "output_type": "stream",
     "text": [
      "obs.tsunset: 2018-09-14 07:55:02.342220\n",
      "obs.tevetwi: 2018-09-14 09:15:34.272438\n",
      " \n",
      "         Sunset:  Fri 2018-09-14 17:55\n",
      "  Twilight Ends:  Fri 2018-09-14 19:16\n",
      "Center of Night:  Fri 2018-09-14 23:59\n",
      "Twilight Begins:  Sat 2018-09-15 04:43\n",
      "        Sunrise:  Sat 2018-09-15 06:03\n"
     ]
    }
   ],
   "source": [
    "obs.setnightevents()\n",
    "print(\"obs.tsunset:\",obs.tsunset)\n",
    "print(\"obs.tevetwi:\",obs.tevetwi)\n",
    "\n",
    "tz = obs.site.localtz   # for brevity\n",
    "\n",
    "print(\" \")        \n",
    "# in more legible form ...\n",
    "sunset = obs.tsunset.to_datetime(timezone = tz)\n",
    "print(\"         Sunset:  %s\" % (time_rounded_to_minute(sunset, incl_date = True, incl_day = True)))\n",
    "endtwi = obs.tevetwi.to_datetime(timezone = tz) \n",
    "print(\"  Twilight Ends:  %s\" % (time_rounded_to_minute(endtwi, incl_date = True, incl_day = True)))\n",
    "nghtctr = obs.tnightcenter.to_datetime(timezone = tz)\n",
    "print(\"Center of Night:  %s\" % (time_rounded_to_minute(nghtctr, incl_date = True, incl_day = True)))\n",
    "begtwi = obs.tmorntwi.to_datetime(timezone = tz)\n",
    "print(\"Twilight Begins:  %s\" % (time_rounded_to_minute(begtwi, incl_date = True, incl_day = True)))\n",
    "sunrise = obs.tsunrise.to_datetime(timezone = tz)\n",
    "print(\"        Sunrise:  %s\" % (time_rounded_to_minute(sunrise, incl_date = True, incl_day = True)))\n"
   ]
  },
  {
   "cell_type": "markdown",
   "metadata": {},
   "source": [
    "Planetary information can be updated with ```computeplanets```.  This generates a dictionary of the planetary positions *in the present equinox*; the keys are the lowercase names of the planets.  It also generates estimates of the V magnitudes, taking into account the empirical phase functions for the planets through Mars."
   ]
  },
  {
   "cell_type": "code",
   "execution_count": 8,
   "metadata": {},
   "outputs": [
    {
     "name": "stdout",
     "output_type": "stream",
     "text": [
      "20h16m25.1121s -24d44m12.0447s\n",
      "-1.74833088571\n"
     ]
    }
   ],
   "source": [
    "obs.computeplanets()\n",
    "print(obs.planetdict['mars'].to_string('hmsdms'))\n",
    "print(obs.planetmags['mars'])"
   ]
  },
  {
   "cell_type": "markdown",
   "metadata": {},
   "source": [
    "Finally, barycentric corrections are computed with ```computebary```, which also creates an attribute ```tbary``` which is the same as ```t``` but with the time correction added.  Note the unit conversions forced here with the quantity's ```to``` method."
   ]
  },
  {
   "cell_type": "code",
   "execution_count": 9,
   "metadata": {},
   "outputs": [
    {
     "name": "stdout",
     "output_type": "stream",
     "text": [
      "obs.barytcorr in seconds:  385.5183655035835 s\n",
      "obs.baryvcorr in km/s: 16.137223010492605 km / s\n",
      "obs.t.jd:  2458376.0515625  obs.tbary.jd:  2458376.0560245183\n"
     ]
    }
   ],
   "source": [
    "obs.computebary()\n",
    "print(\"obs.barytcorr in seconds: \",obs.barytcorr.to(u.s))\n",
    "print(\"obs.baryvcorr in km/s:\",obs.baryvcorr.to(u.km/u.s))\n",
    "print(\"obs.t.jd: \",obs.t.jd,\" obs.tbary.jd: \",obs.tbary.jd)"
   ]
  },
  {
   "cell_type": "markdown",
   "metadata": {},
   "source": [
    "**Note carefully** that ```tbary``` is **not in TDB**, or barycentric dynamical time.  It is most likely in the UTC time system (civil clocks follow this) but with a light-travel time correction added.  TDB is an entirely different kettle of fish, offset these days by 69 seconds from UTC and not necessarily corrected for light-travel time.  Aside from the large constant offset, it's different from UTC in that it is a uniform time scale, whereas UTC has leap seconds added from \n",
    "tme to time.  TDB does *not* include a correction for light-travel time in and of itself.  As I understand it, it represents the rate of a clock fixed at the earth's mean gravitational potential with respect to the sun.  Time on the real earth has gets ahead and behind this because of the gravitational time dilation changes through the year due to the earth's eccentric orbit around the sun.  This term is of order 1.6 milliseconds, and as far as I know is only practically significant in millisecond pulsar timing.  \n",
    "\n",
    "In any case, the light travel time correction ```tbary``` should represent accurately the extra time needed for a plane wave of light to make its way to the solar system barycenter, compared to when you observe it.  ```astropy``` provides ways of converting your time to TDB if needed, and the time-of-flight correction from earth-based time to arrival time at the solar system barycenter should be nearly identical in the UTC or TDB systems.\n",
    "\n",
    "### Summary output methods\n",
    "\n",
    "Although the main motivation of this work is as a basis for a python skycalc, there are two methods to generate human-readable output that have been used mostly for testing.  They are ```printnow``` and ```printnight```, as follows:"
   ]
  },
  {
   "cell_type": "code",
   "execution_count": 10,
   "metadata": {
    "scrolled": true
   },
   "outputs": [
    {
     "name": "stderr",
     "output_type": "stream",
     "text": [
      "WARNING: ErfaWarning: ERFA function \"utctai\" yielded 1 of \"dubious year (Note 3)\" [astropy._erfa.core]\n"
     ]
    },
    {
     "name": "stdout",
     "output_type": "stream",
     "text": [
      " \n",
      "Site : Anglo-Australian Obs;  E longit = 149 03 57.9322, lat = -31 16 37.3359\n",
      " \n",
      "     J2000:  01 09 18.00  +28 33 52.0       (in Psc)\n",
      "J2018.702 :  01 10 19.59  +28 39 49.5\n",
      " \n",
      "UT date and time    : Fri 2018-09-14 13:14:15    JD 2458376.0515625 \n",
      "local date and time : Fri 2018-09-14 23:14:15\n",
      " \n",
      "Local mean sidereal time: 22 44 23 \n",
      " \n",
      "Hour angle: -02 25 56  AltAz:  20.7,   33.9  Parallactic: -147.1 [32.9]\n",
      "Airmass:  2.802\n",
      " \n",
      "Moon: 2.4 days before first quarter   Alt,Az -8.7, 248.3\n",
      "The moon is down. \n",
      " \n",
      "The sun is down; there is no twilight.\n",
      "Sun RA and dec:  11 29 25.7  +03 17 59 (J2018.702);  AltAz -60.1, 203.0\n",
      " \n",
      "Barycentric corrns: add  385.52 sec and  16.14 km/s to observed.\n",
      "Barycentric JD (UTC system):  2458376.05602.\n"
     ]
    }
   ],
   "source": [
    "obs.printnow()"
   ]
  },
  {
   "cell_type": "markdown",
   "metadata": {},
   "source": [
    "As you can see, this generates and prints out the instantaneous circumstances.\n",
    "\n",
    "Another method, ```printnight```, generates and tabulates the events of the night:"
   ]
  },
  {
   "cell_type": "code",
   "execution_count": 11,
   "metadata": {},
   "outputs": [
    {
     "name": "stdout",
     "output_type": "stream",
     "text": [
      "Night events; times listed are local.\n",
      "\n",
      "         Sunset:  Fri 2018-09-14 17:55\n",
      "  Twilight Ends:  Fri 2018-09-14 19:16\n",
      "Center of Night:  Fri 2018-09-14 23:59\n",
      "Twilight Begins:  Sat 2018-09-15 04:43\n",
      "        Sunrise:  Sat 2018-09-15 06:03\n",
      " \n",
      "        Moonset:  Fri 2018-09-14 22:33\n",
      "       Moonrise:  Sat 2018-09-15 09:43\n"
     ]
    }
   ],
   "source": [
    "obs.printnight()"
   ]
  },
  {
   "cell_type": "markdown",
   "metadata": {},
   "source": [
    "Note that **the order in which you call the methods is important**; after setting the input parameters, you first ```computesky``` to compute the sidereal time and some other parameters, then ```computesunmoon```, then ```setnightevents``` and/or ```computeplanets```.  This makes sense; you don't need to compute where the moon is to find the airmass, for example. "
   ]
  },
  {
   "cell_type": "code",
   "execution_count": 12,
   "metadata": {
    "scrolled": true
   },
   "outputs": [
    {
     "name": "stdout",
     "output_type": "stream",
     "text": [
      "Sunset (UT): 2018-09-14 07:55:02.342220    Sunrise (UT):  2018-09-14 20:03:02.664775\n"
     ]
    },
    {
     "name": "stderr",
     "output_type": "stream",
     "text": [
      "WARNING: ErfaWarning: ERFA function \"utctai\" yielded 1 of \"dubious year (Note 3)\" [astropy._erfa.core]\n"
     ]
    }
   ],
   "source": [
    "obs.computesky()\n",
    "obs.computesunmoon()\n",
    "obs.setnightevents()\n",
    "print('Sunset (UT):', obs.tsunset, '   Sunrise (UT): ',obs.tsunrise)"
   ]
  },
  {
   "cell_type": "code",
   "execution_count": null,
   "metadata": {
    "collapsed": true
   },
   "outputs": [],
   "source": []
  },
  {
   "cell_type": "code",
   "execution_count": null,
   "metadata": {
    "collapsed": true
   },
   "outputs": [],
   "source": []
  }
 ],
 "metadata": {
  "kernelspec": {
   "display_name": "Python 3",
   "language": "python",
   "name": "python3"
  },
  "language_info": {
   "codemirror_mode": {
    "name": "ipython",
    "version": 3
   },
   "file_extension": ".py",
   "mimetype": "text/x-python",
   "name": "python",
   "nbconvert_exporter": "python",
   "pygments_lexer": "ipython3",
   "version": "3.6.3"
  }
 },
 "nbformat": 4,
 "nbformat_minor": 2
}
